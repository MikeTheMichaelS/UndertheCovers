{
 "cells": [
  {
   "cell_type": "markdown",
   "id": "badbf5ba-1c45-4eae-a1f3-c4c60bba6334",
   "metadata": {
    "tags": []
   },
   "source": [
    "# SLS Lecture 15 : Processes and Virtual Memory"
   ]
  },
  {
   "cell_type": "markdown",
   "id": "cc2910b0-bcb2-4abc-a35a-fc92bc0ddb8a",
   "metadata": {
    "slideshow": {
     "slide_type": "skip"
    },
    "tags": []
   },
   "source": [
    "<hr>"
   ]
  },
  {
   "cell_type": "markdown",
   "id": "f717c9ce-9365-4367-b611-e2dabf00364d",
   "metadata": {
    "slideshow": {
     "slide_type": "slide"
    },
    "tags": []
   },
   "source": [
    "## Virtual Memory: The Idea\n",
    "\n",
    "Enable several instances of programs to be running at the same time "
   ]
  },
  {
   "cell_type": "markdown",
   "id": "ddf6e60b-b762-4868-9228-d41c0632f119",
   "metadata": {
    "slideshow": {
     "slide_type": "fragment"
    },
    "tags": []
   },
   "source": [
    "1. Allow each to have their own view of memory -- **Virtual Memory**\n",
    "   - Fool programs into thinking they have the entire memory of a very large \"virtual\" computer to themselves\n",
    "   - Where the virtual computer has the same CPU as the real hardware but whose memory can seem much bigger than the main memory of the real hardware\n",
    "     - Eg. The your laptop might have 8 GB ($1024^3 * 8$ byte) of real main memory but each running program thinks it has 17179869184 GB"
   ]
  },
  {
   "cell_type": "markdown",
   "id": "5264a9d8-2750-49a3-a6a8-dcd164eceeba",
   "metadata": {
    "slideshow": {
     "slide_type": "slide"
    },
    "tags": []
   },
   "source": [
    "2. Ensure that each running program's view of memory can be private and independent\n",
    "    - Each program has own \"Virtual Address Space\" \n",
    "    - **Virtual Address Space** is an array of memory $0$ to $2^w$\n",
    "      - where $w$ is size in bits of the Virtual Address Space supported by the CPU: Eg. 64 bits on most modern CPU's\n",
    "    - Each view has its own version of each address \n",
    "       - Eg. Each view has its own address 0 that are independent: changing the value at address 0 in one view does not affecting any of the other views."
   ]
  },
  {
   "cell_type": "markdown",
   "id": "4c59920e-4605-44fc-82c6-88742e0d3764",
   "metadata": {
    "slideshow": {
     "slide_type": "slide"
    },
    "tags": []
   },
   "source": [
    "3. Allow the views to be independent but also permit controlled sharing if desired\n",
    "    - Let two or more views of memory have some addresses that are \"shared\".\n",
    "       - Eg. Address 42 in one view and address 42 in another view share the same \"underlying\" memory so that changes made in one view are visible in the other.\n",
    "    "
   ]
  },
  {
   "cell_type": "markdown",
   "id": "53eb149c-cf9b-47e5-81d8-194ad3ccc550",
   "metadata": {
    "slideshow": {
     "slide_type": "skip"
    },
    "tags": []
   },
   "source": [
    "<hr>"
   ]
  },
  {
   "cell_type": "markdown",
   "id": "2fe9ee58-377f-499e-b7e5-5a7c91c04add",
   "metadata": {
    "slideshow": {
     "slide_type": "slide"
    },
    "tags": []
   },
   "source": [
    "## Virtual Memory: HW + SW \n",
    "\n",
    "\n",
    "The Hardware provides the mechanism for Virtual Memory and the Software of the OS uses them to implement Processes \n",
    "    \n",
    "The OS then can start Processes from the executables we create"
   ]
  },
  {
   "cell_type": "markdown",
   "id": "d97eab78-f70f-40a8-8b72-29cc622fae85",
   "metadata": {
    "slideshow": {
     "slide_type": "skip"
    },
    "tags": []
   },
   "source": [
    "<hr>"
   ]
  },
  {
   "cell_type": "markdown",
   "id": "835b8756-7c85-47c4-ac4d-e475408c8308",
   "metadata": {
    "slideshow": {
     "slide_type": "slide"
    },
    "tags": []
   },
   "source": [
    "<img src=\"../images/contexts2.png\" height=\"100%\">"
   ]
  },
  {
   "cell_type": "markdown",
   "id": "d5dc1d32-d720-45f9-bacb-4a36e3c1e205",
   "metadata": {
    "slideshow": {
     "slide_type": "skip"
    },
    "tags": []
   },
   "source": [
    "<hr>"
   ]
  },
  {
   "cell_type": "markdown",
   "id": "45541cc7-833f-4adf-8594-9eaefefd4a2d",
   "metadata": {
    "slideshow": {
     "slide_type": "slide"
    },
    "tags": []
   },
   "source": [
    "## The Road from Physical to Virtual Memory"
   ]
  },
  {
   "cell_type": "markdown",
   "id": "a2df17f7-d0d4-426b-b46d-91e9c0418b4e",
   "metadata": {
    "slideshow": {
     "slide_type": "skip"
    },
    "tags": []
   },
   "source": [
    "<hr>"
   ]
  },
  {
   "cell_type": "markdown",
   "id": "b1d5f8a9-afe8-4ff6-8550-7cd30dd6b1b7",
   "metadata": {
    "slideshow": {
     "slide_type": "slide"
    },
    "tags": []
   },
   "source": [
    "% BODY\n",
    "<img src=\"../images/VMM/000.png\">"
   ]
  },
  {
   "cell_type": "markdown",
   "id": "6915bdfe-4955-4f15-9493-180bef1ba25c",
   "metadata": {
    "slideshow": {
     "slide_type": "notes"
    },
    "tags": []
   },
   "source": [
    "% NOTES"
   ]
  },
  {
   "cell_type": "markdown",
   "id": "6b55c0df-8574-43a9-a50f-406b5ed31988",
   "metadata": {
    "slideshow": {
     "slide_type": "skip"
    },
    "tags": []
   },
   "source": [
    "<hr>"
   ]
  },
  {
   "cell_type": "markdown",
   "id": "facef468-78ce-495f-9612-cf6a15f4d0c5",
   "metadata": {
    "slideshow": {
     "slide_type": "slide"
    },
    "tags": []
   },
   "source": [
    "% BODY\n",
    "<img src=\"../images/VMM/001.png\" width=\"100%\">"
   ]
  },
  {
   "cell_type": "markdown",
   "id": "1f3a705c-547b-4bcd-a813-cbec0d0d5e41",
   "metadata": {
    "slideshow": {
     "slide_type": "notes"
    },
    "tags": []
   },
   "source": [
    "% NOTES"
   ]
  },
  {
   "cell_type": "markdown",
   "id": "9b9a5dfc-c7a6-4ae9-bf7f-acadda89ff9a",
   "metadata": {
    "slideshow": {
     "slide_type": "skip"
    },
    "tags": []
   },
   "source": [
    "<hr>"
   ]
  },
  {
   "cell_type": "markdown",
   "id": "34c975db-459a-498d-8470-e7d5d034b080",
   "metadata": {
    "slideshow": {
     "slide_type": "slide"
    },
    "tags": []
   },
   "source": [
    "% BODY\n",
    "<img src=\"../images/VMM/002.png\" width=\"100%\">"
   ]
  },
  {
   "cell_type": "markdown",
   "id": "7eacaddf-38d8-4101-941c-52dec9ec6ddc",
   "metadata": {
    "slideshow": {
     "slide_type": "notes"
    },
    "tags": []
   },
   "source": [
    "% NOTES"
   ]
  },
  {
   "cell_type": "markdown",
   "id": "f19c9810-00a2-42b0-bf79-e575a8d37e0c",
   "metadata": {
    "slideshow": {
     "slide_type": "skip"
    },
    "tags": []
   },
   "source": [
    "<hr>"
   ]
  },
  {
   "cell_type": "markdown",
   "id": "41a3e9c7-d7a8-42e6-a3c9-2142155e0b51",
   "metadata": {
    "slideshow": {
     "slide_type": "slide"
    },
    "tags": []
   },
   "source": [
    "% BODY\n",
    "<img src=\"../images/VMM/003.png\" width=\"100%\">"
   ]
  },
  {
   "cell_type": "markdown",
   "id": "a9fcd11a-b656-469b-af7f-12e176633437",
   "metadata": {
    "slideshow": {
     "slide_type": "notes"
    },
    "tags": []
   },
   "source": [
    "% NOTES"
   ]
  },
  {
   "cell_type": "markdown",
   "id": "a9228cc3-3606-43ef-bb29-ff15584d3ae2",
   "metadata": {
    "slideshow": {
     "slide_type": "skip"
    },
    "tags": []
   },
   "source": [
    "<hr>"
   ]
  },
  {
   "cell_type": "markdown",
   "id": "b6b3afbe-5288-4383-8aa2-ba11414467d3",
   "metadata": {
    "slideshow": {
     "slide_type": "slide"
    },
    "tags": []
   },
   "source": [
    "% BODY\n",
    "<img src=\"../images/VMM/004.png\" width=\"100%\">"
   ]
  },
  {
   "cell_type": "markdown",
   "id": "81fcf4ac-13fa-4e46-8876-16e20d9e386c",
   "metadata": {
    "slideshow": {
     "slide_type": "notes"
    },
    "tags": []
   },
   "source": [
    "% NOTES"
   ]
  },
  {
   "cell_type": "markdown",
   "id": "7074ad0e-f9e3-49c7-97ac-dee466a4253f",
   "metadata": {
    "slideshow": {
     "slide_type": "skip"
    },
    "tags": []
   },
   "source": [
    "<hr>"
   ]
  },
  {
   "cell_type": "markdown",
   "id": "eb689e0b-adf5-4e8b-9c4a-0f776b0d0ec2",
   "metadata": {
    "slideshow": {
     "slide_type": "slide"
    },
    "tags": []
   },
   "source": [
    "% BODY\n",
    "<img src=\"../images/VMM/005.png\" width=\"100%\">"
   ]
  },
  {
   "cell_type": "markdown",
   "id": "22049856-fb5b-4fe6-86ea-2c64bcfb8bef",
   "metadata": {
    "slideshow": {
     "slide_type": "notes"
    },
    "tags": []
   },
   "source": [
    "% NOTES"
   ]
  },
  {
   "cell_type": "markdown",
   "id": "8b203e55-9814-4d80-8c22-7738d1c73f07",
   "metadata": {
    "slideshow": {
     "slide_type": "skip"
    },
    "tags": []
   },
   "source": [
    "<hr>"
   ]
  },
  {
   "cell_type": "markdown",
   "id": "4abf7f92-3d68-4cc9-9007-fc7b69defc1c",
   "metadata": {
    "slideshow": {
     "slide_type": "slide"
    },
    "tags": []
   },
   "source": [
    "% BODY\n",
    "<img src=\"../images/VMM/006.png\" width=\"100%\">"
   ]
  },
  {
   "cell_type": "markdown",
   "id": "0f1f0f71-b477-4a45-b887-2ed789888993",
   "metadata": {
    "slideshow": {
     "slide_type": "notes"
    },
    "tags": []
   },
   "source": [
    "% NOTES"
   ]
  },
  {
   "cell_type": "markdown",
   "id": "a078481e-9144-4942-909e-1b3d56a8b8fb",
   "metadata": {
    "slideshow": {
     "slide_type": "skip"
    },
    "tags": []
   },
   "source": [
    "<hr>"
   ]
  },
  {
   "cell_type": "markdown",
   "id": "a32e146c-1652-40b7-8cdb-e094903f668f",
   "metadata": {
    "slideshow": {
     "slide_type": "slide"
    },
    "tags": []
   },
   "source": [
    "% BODY\n",
    "<img src=\"../images/VMM/007.png\" width=\"100%\">"
   ]
  },
  {
   "cell_type": "markdown",
   "id": "b1b9237f-0495-4f13-b189-fae226fa9248",
   "metadata": {
    "slideshow": {
     "slide_type": "notes"
    },
    "tags": []
   },
   "source": [
    "% NOTES"
   ]
  },
  {
   "cell_type": "markdown",
   "id": "63ea0846-b98a-4e91-93da-355a66498310",
   "metadata": {
    "slideshow": {
     "slide_type": "skip"
    },
    "tags": []
   },
   "source": [
    "<hr>"
   ]
  },
  {
   "cell_type": "markdown",
   "id": "1be0cff0-347c-4b85-8858-5c3465590439",
   "metadata": {
    "slideshow": {
     "slide_type": "slide"
    },
    "tags": []
   },
   "source": [
    "% BODY\n",
    "<img src=\"../images/VMM/008.png\" width=\"100%\">"
   ]
  },
  {
   "cell_type": "markdown",
   "id": "06de6f66-c499-4001-a1b2-cc7c0bdeeac6",
   "metadata": {
    "slideshow": {
     "slide_type": "notes"
    },
    "tags": []
   },
   "source": [
    "% NOTES"
   ]
  },
  {
   "cell_type": "markdown",
   "id": "472b8b9e-f459-492a-9f58-1ae9b802b156",
   "metadata": {
    "slideshow": {
     "slide_type": "skip"
    },
    "tags": []
   },
   "source": [
    "<hr>"
   ]
  },
  {
   "cell_type": "markdown",
   "id": "96105fad-7ba6-49f5-8372-c38f6f4b6e0d",
   "metadata": {
    "slideshow": {
     "slide_type": "slide"
    },
    "tags": []
   },
   "source": [
    "## Closing the loop \n",
    "\n",
    "Kernel maintains a page table for each process.\n",
    "\n",
    "- It initializes the page table with mappings to the content from the executable along with any additional needed\n",
    "   - Eg. bss and stack\n",
    "- As process runs additional mappings can get created:\n",
    "   - Eg. heap, dynamically linked libraries, addition program requested mappings\n",
    "   "
   ]
  },
  {
   "cell_type": "markdown",
   "id": "6746dec3-f99b-43b9-bd5e-1d559a453605",
   "metadata": {
    "slideshow": {
     "slide_type": "skip"
    },
    "tags": []
   },
   "source": [
    "<hr>"
   ]
  },
  {
   "cell_type": "markdown",
   "id": "31152b9a-9f37-4268-926d-4d7f41af19fe",
   "metadata": {
    "slideshow": {
     "slide_type": "slide"
    },
    "tags": []
   },
   "source": [
    "% BODY\n",
    "<img src=\"../images/VMM/009.png\" width=\"100%\">"
   ]
  },
  {
   "cell_type": "markdown",
   "id": "61b46087-b305-47b8-9cc9-f59e81dfb362",
   "metadata": {
    "slideshow": {
     "slide_type": "skip"
    },
    "tags": []
   },
   "source": [
    "<hr>"
   ]
  },
  {
   "cell_type": "markdown",
   "id": "04f758f6-918a-4786-8049-5e5b3f79d0ea",
   "metadata": {
    "slideshow": {
     "slide_type": "slide"
    },
    "tags": []
   },
   "source": [
    "## Virtual Memory: Party Trick 1: Paging\n",
    "\n",
    "<table>\n",
    "    <tr>\n",
    "        <td width=\"40%\">\n",
    "<img src=\"../images/VMM/010.png\" width=\"100%\">\n",
    "        </td>\n",
    "        <td>\n",
    "        \n",
    "How can we possibly allow one process to run let, alone hundreds of them?\n",
    "- $2^{64}$ bytes (17179869184 GigaBytes) of virtual memory for one process\n",
    "- most computers have at most 10's of Gigabytes of RAM.\n",
    "- Even large servers only have 100's of Gigabytes of RAM.\n",
    "- How and why can we make things fit?\n",
    "            \n",
    "</td>\n",
    "</tr>\n",
    "</table>"
   ]
  },
  {
   "cell_type": "markdown",
   "id": "fbf42cbc-faf1-4db6-83ce-c15f77b058d0",
   "metadata": {
    "slideshow": {
     "slide_type": "skip"
    },
    "tags": []
   },
   "source": [
    "<hr>"
   ]
  },
  {
   "cell_type": "markdown",
   "id": "db1e765e-c2c6-472d-a341-2a9a0660f459",
   "metadata": {
    "slideshow": {
     "slide_type": "slide"
    },
    "tags": []
   },
   "source": [
    "## Virtual Memory: Party Trick 1: Paging\n",
    "\n",
    "<table>\n",
    "    <tr>\n",
    "        <td width=\"40%\">\n",
    "<img src=\"../images/VMM/011.png\" width=\"100%\">\n",
    "        </td>\n",
    "        <td>\n",
    "        \n",
    "To solve this problem we need to introduce our \"External\" Storage devices\n",
    "- Hard drives and Solid State Drives (SSDs)\n",
    "   - typically 100 times larger then ram\n",
    "- CPU cannot directly use them as memory\n",
    "- Complex OS code can however, move data between them and memory \n",
    "- Part of our tick involves \"swapping\" memory pages in and out of external storage \"behind the backs\" of the running processes\n",
    "- Giving the illusion of a much large main memory \n",
    "\n",
    "            \n",
    "</td>\n",
    "</tr>\n",
    "</table>"
   ]
  },
  {
   "cell_type": "markdown",
   "id": "47ce5e56-5cbc-47fc-91a8-b9a134d375e1",
   "metadata": {
    "slideshow": {
     "slide_type": "skip"
    },
    "tags": []
   },
   "source": [
    "<hr>"
   ]
  },
  {
   "cell_type": "markdown",
   "id": "71bec766-7e89-481b-a68c-920d815b96ef",
   "metadata": {
    "slideshow": {
     "slide_type": "slide"
    },
    "tags": []
   },
   "source": [
    "% BODY\n",
    "<img src=\"../images/VMM/012.png\" width=\"100%\">"
   ]
  },
  {
   "cell_type": "markdown",
   "id": "de4be46a-d2b4-493e-99dc-4114fffc2659",
   "metadata": {
    "slideshow": {
     "slide_type": "notes"
    },
    "tags": []
   },
   "source": [
    "% NOTES\n",
    "\n",
    "Lets add some more details to our process picture form earlier\n",
    "- First lets introduce the idea that all \"regular\" files are stored on an external storage device\n",
    "- we can think of the files as pages of data that reside on \"disk\"\n",
    "- thus any byte of a file is on a particular page of the file\n",
    "- We will also reserve a portion of the drive or maybe even another drive to act like a large pool of \"swap\" pages for data that does not below to a file but is only associated with a running program\n",
    "- Now when a binary is \"loaded\" by the OS we are really just mapping part of the new processes address space to pages of the binary file on disk \n",
    "   - this mean that the OS will allocate free page of memory and load it with the correct data from the corresponding disk page before mapping it\n",
    "       - text pages will be loaded with the byte value from the appropriate text data from the binary and marked read and execute\n",
    "       - read-only data will be loaded with the byte values from the appropriate ro data from the binary and marked read\n",
    "       - data will be loaded from load with bytes from the the appropriate data from the binary and marked read and write\n",
    "       - for bss it will allocate free pages and fill them with zeros\n",
    "       - for the stack it will allocate free pages as needed\n",
    "       - similarly for heap and other dynamic pages\n",
    "   - pages of a process that are not associated with a specific file will be associated as needed to a page in the swap storage\n",
    "- As we can see process 21 running the binary /home/jovyan/mypgm has accessed pages\n",
    "  - /home/jovyan/mypgm: 1 r-x -- probably an text page\n",
    "  - /home/jovyan/mypgm: 5 r-- -- probably ro data\n",
    "  - finally it has a swap page mapped r-w -- probably its stack\n"
   ]
  },
  {
   "cell_type": "markdown",
   "id": "e63489a1-1f02-4277-b9e6-7e92e61f7c36",
   "metadata": {
    "slideshow": {
     "slide_type": "skip"
    },
    "tags": []
   },
   "source": [
    "<hr>"
   ]
  },
  {
   "cell_type": "markdown",
   "id": "acb26eff-e089-47f8-b207-8f6fbec7d979",
   "metadata": {
    "slideshow": {
     "slide_type": "slide"
    },
    "tags": []
   },
   "source": [
    "- First lets think about what happens if bash while it is running requests a heap page via the `brk` system call.\n"
   ]
  },
  {
   "cell_type": "markdown",
   "id": "df273912-c430-41ca-833e-575bb392cc9d",
   "metadata": {
    "slideshow": {
     "slide_type": "skip"
    },
    "tags": []
   },
   "source": [
    "<hr>"
   ]
  },
  {
   "cell_type": "markdown",
   "id": "a150ed8e-c66a-4e06-b703-7cf6f6bc8755",
   "metadata": {
    "slideshow": {
     "slide_type": "slide"
    },
    "tags": []
   },
   "source": [
    "% BODY\n",
    "<img src=\"../images/VMM/013.png\" width=\"100%\">"
   ]
  },
  {
   "cell_type": "markdown",
   "id": "47d40229-ea13-4f62-9d7b-cb995817e071",
   "metadata": {
    "slideshow": {
     "slide_type": "skip"
    },
    "tags": []
   },
   "source": [
    "<hr>"
   ]
  },
  {
   "cell_type": "markdown",
   "id": "4ba12ec9-2c03-4882-b30e-e8ccc0d425d5",
   "metadata": {
    "slideshow": {
     "slide_type": "slide"
    },
    "tags": []
   },
   "source": [
    "- Now lets assume we are running pid 21 again\n",
    "  - it now accesses the static data for a large array at address 0x406000\n",
    "     - `mov rax, QWORD PTR [0x406000]`\n",
    "  - 0x406000 happens to land on VPN4 that has not been accessed yet\n",
    "- Remember we are out of free pages!"
   ]
  },
  {
   "cell_type": "markdown",
   "id": "464365e9-efb4-4825-9010-69d460846fdc",
   "metadata": {
    "slideshow": {
     "slide_type": "skip"
    },
    "tags": []
   },
   "source": [
    "<hr>"
   ]
  },
  {
   "cell_type": "markdown",
   "id": "a360eecc-970c-4dc1-a1fb-8c9b8344ce50",
   "metadata": {
    "slideshow": {
     "slide_type": "slide"
    },
    "tags": []
   },
   "source": [
    "% BODY\n",
    "<img src=\"../images/VMM/014.png\" width=\"100%\">"
   ]
  },
  {
   "cell_type": "markdown",
   "id": "117243ad-95aa-409c-800d-0971644dbc07",
   "metadata": {
    "slideshow": {
     "slide_type": "skip"
    },
    "tags": []
   },
   "source": [
    "<hr>"
   ]
  },
  {
   "cell_type": "markdown",
   "id": "946426cc-cb0f-4b5c-a1b5-91fef8061628",
   "metadata": {
    "slideshow": {
     "slide_type": "slide"
    },
    "tags": []
   },
   "source": [
    "% BODY\n",
    "<img src=\"../images/VMM/015.png\" width=\"100%\">"
   ]
  },
  {
   "cell_type": "markdown",
   "id": "5f27cc7a-d3e7-4158-a67d-8421532e5a27",
   "metadata": {
    "slideshow": {
     "slide_type": "skip"
    },
    "tags": []
   },
   "source": [
    "<hr>"
   ]
  },
  {
   "cell_type": "markdown",
   "id": "c168c03b-c382-4580-8faf-91f7e84dfb7f",
   "metadata": {
    "slideshow": {
     "slide_type": "slide"
    },
    "tags": []
   },
   "source": [
    "% BODY\n",
    "<img src=\"../images/VMM/016.png\" width=\"100%\">"
   ]
  },
  {
   "cell_type": "markdown",
   "id": "eb7e7faa-5bd5-420c-9f3d-77b8b0fdef9f",
   "metadata": {
    "slideshow": {
     "slide_type": "skip"
    },
    "tags": []
   },
   "source": [
    "<hr>"
   ]
  },
  {
   "cell_type": "markdown",
   "id": "1028f636-a8ce-42e1-9732-181e9d15f5d8",
   "metadata": {
    "slideshow": {
     "slide_type": "slide"
    },
    "tags": []
   },
   "source": [
    "% BODY\n",
    "<img src=\"../images/VMM/017.png\" width=\"100%\">"
   ]
  },
  {
   "cell_type": "markdown",
   "id": "b7de843c-e797-42aa-bc15-cd454e67fbea",
   "metadata": {
    "slideshow": {
     "slide_type": "skip"
    },
    "tags": []
   },
   "source": [
    "<hr>"
   ]
  },
  {
   "cell_type": "markdown",
   "id": "74b310f8-814e-41d1-88ab-bc22c2347e03",
   "metadata": {
    "slideshow": {
     "slide_type": "slide"
    },
    "tags": []
   },
   "source": [
    "% BODY\n",
    "<img src=\"../images/VMM/018.png\" width=\"100%\">"
   ]
  },
  {
   "cell_type": "markdown",
   "id": "eaa4d489-fac6-4341-9acd-abcb1faeee14",
   "metadata": {
    "slideshow": {
     "slide_type": "slide"
    },
    "tags": []
   },
   "source": [
    "## Virtual Memory Trick 2: Memory Mapping Files"
   ]
  },
  {
   "cell_type": "markdown",
   "id": "9bde761e-752d-4132-8033-271b7c843981",
   "metadata": {
    "slideshow": {
     "slide_type": "slide"
    },
    "tags": []
   },
   "source": [
    "## Virtual Memory Trick 3: Sharing"
   ]
  },
  {
   "cell_type": "markdown",
   "id": "d0271033-f285-4a0a-a4c1-3d5c8c7051c0",
   "metadata": {
    "slideshow": {
     "slide_type": "slide"
    },
    "tags": []
   },
   "source": [
    "## Virtual Memory Trick 3: Dynamically Linked Libraries"
   ]
  }
 ],
 "metadata": {
  "hide_input": false,
  "kernelspec": {
   "display_name": "Python 3 (ipykernel)",
   "language": "python",
   "name": "python3"
  },
  "language_info": {
   "codemirror_mode": {
    "name": "ipython",
    "version": 3
   },
   "file_extension": ".py",
   "mimetype": "text/x-python",
   "name": "python",
   "nbconvert_exporter": "python",
   "pygments_lexer": "ipython3",
   "version": "3.10.5"
  },
  "rise": {
   "autolaunch": false,
   "enable_chalkboard": true,
   "footer": "UC-SLS -- Lecture 15",
   "header": "Process and Virtual Memory",
   "height": "100%",
   "scroll": true,
   "start_slideshow_at": "selected",
   "transition": "none",
   "width": "100%"
  }
 },
 "nbformat": 4,
 "nbformat_minor": 5
}
