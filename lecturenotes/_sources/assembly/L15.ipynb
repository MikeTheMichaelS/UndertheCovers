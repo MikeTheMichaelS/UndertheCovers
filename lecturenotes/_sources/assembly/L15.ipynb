{
 "cells": [
  {
   "cell_type": "markdown",
   "id": "badbf5ba-1c45-4eae-a1f3-c4c60bba6334",
   "metadata": {},
   "source": [
    "# SLS Lecture 15 : Topics"
   ]
  }
 ],
 "metadata": {
  "hide_input": false,
  "kernelspec": {
   "display_name": "Python 3 (ipykernel)",
   "language": "python",
   "name": "python3"
  },
  "language_info": {
   "codemirror_mode": {
    "name": "ipython",
    "version": 3
   },
   "file_extension": ".py",
   "mimetype": "text/x-python",
   "name": "python",
   "nbconvert_exporter": "python",
   "pygments_lexer": "ipython3",
   "version": "3.9.6"
  }
 },
 "nbformat": 4,
 "nbformat_minor": 5
}
